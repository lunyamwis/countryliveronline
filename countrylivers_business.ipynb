{
 "cells": [
  {
   "cell_type": "code",
   "execution_count": null,
   "metadata": {
    "id": "LQ0x95a7gDLY"
   },
   "outputs": [],
   "source": [
    "import pandas as pd"
   ]
  },
  {
   "cell_type": "code",
   "execution_count": null,
   "metadata": {
    "id": "3ypD8NXygQdx"
   },
   "outputs": [],
   "source": [
    "datasheet = pd.read_excel(\"https://docs.google.com/spreadsheets/d/e/2PACX-1vRTr5IPlpmKzTPC_tUMzPpbz4w-pqagrd3Ks6QwQcswXQGUhNrYz26XxJD9TkzKomPoxTGcf9Ku3toC/pub?output=xlsx\",sheet_name=\"crops\")\n",
    "inventory = pd.read_excel(\"https://docs.google.com/spreadsheets/d/e/2PACX-1vRTr5IPlpmKzTPC_tUMzPpbz4w-pqagrd3Ks6QwQcswXQGUhNrYz26XxJD9TkzKomPoxTGcf9Ku3toC/pub?output=xlsx\",sheet_name=\"inventory\")"
   ]
  },
  {
   "cell_type": "code",
   "execution_count": null,
   "metadata": {
    "colab": {
     "base_uri": "https://localhost:8080/"
    },
    "id": "tEe9wxcbgpiC",
    "outputId": "91009efa-defb-48d4-b9cc-911c4ea580a9"
   },
   "outputs": [
    {
     "data": {
      "text/plain": [
       "Index(['crop', 'min_temperature', 'max_temperature',\n",
       "       'distance between plants(home garderners)',\n",
       "       'distance between rows(home garderners)',\n",
       "       'distance between plants(commercial growers)',\n",
       "       'distance between rows(commercial growers)', 'volume length',\n",
       "       'volume width', 'volume height', 'volume', 'seedling (min height)',\n",
       "       'seedling (max height)'],\n",
       "      dtype='object')"
      ]
     },
     "execution_count": 3,
     "metadata": {},
     "output_type": "execute_result"
    }
   ],
   "source": [
    "datasheet.columns"
   ]
  }
 ],
 "metadata": {
  "colab": {
   "name": "countrylivers_biz_db_connector.ipynb",
   "provenance": []
  },
  "kernelspec": {
   "display_name": "Python 3 (ipykernel)",
   "language": "python",
   "name": "python3"
  },
  "language_info": {
   "codemirror_mode": {
    "name": "ipython",
    "version": 3
   },
   "file_extension": ".py",
   "mimetype": "text/x-python",
   "name": "python",
   "nbconvert_exporter": "python",
   "pygments_lexer": "ipython3",
   "version": "3.8.10"
  }
 },
 "nbformat": 4,
 "nbformat_minor": 1
}
